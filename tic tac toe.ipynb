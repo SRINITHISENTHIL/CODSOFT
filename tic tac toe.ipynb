{
  "nbformat": 4,
  "nbformat_minor": 0,
  "metadata": {
    "colab": {
      "provenance": [],
      "authorship_tag": "ABX9TyNW8C5jGvGeYBhsYQYs0s3Q",
      "include_colab_link": true
    },
    "kernelspec": {
      "name": "python3",
      "display_name": "Python 3"
    },
    "language_info": {
      "name": "python"
    }
  },
  "cells": [
    {
      "cell_type": "markdown",
      "metadata": {
        "id": "view-in-github",
        "colab_type": "text"
      },
      "source": [
        "<a href=\"https://colab.research.google.com/github/SRINITHISENTHIL/CODSOFT/blob/main/tic%20tac%20toe.ipynb\" target=\"_parent\"><img src=\"https://colab.research.google.com/assets/colab-badge.svg\" alt=\"Open In Colab\"/></a>"
      ]
    },
    {
      "cell_type": "code",
      "execution_count": 2,
      "metadata": {
        "colab": {
          "base_uri": "https://localhost:8080/"
        },
        "id": "usJQduEPDbcj",
        "outputId": "0b850879-19b9-4da6-b0ba-be692735c3b0"
      },
      "outputs": [
        {
          "output_type": "stream",
          "name": "stdout",
          "text": [
            "Welcome to Tic-Tac-Toe!\n",
            "|   |   |   |\n",
            "|   |   |   |\n",
            "|   |   |   |\n",
            "Enter your move (1-9): 1\n",
            "| X |   |   |\n",
            "|   | O |   |\n",
            "|   |   |   |\n",
            "Enter your move (1-9): 2\n",
            "| X | X | O |\n",
            "|   | O |   |\n",
            "|   |   |   |\n",
            "Enter your move (1-9): 3\n",
            "Invalid move, Try again!\n",
            "Enter your move (1-9): 4\n",
            "| X | X | O |\n",
            "| X | O |   |\n",
            "| O |   |   |\n",
            "AI wins!\n"
          ]
        }
      ],
      "source": [
        "import math\n",
        "board = [' ' for _ in range(9)]\n",
        "def print_board(board):\n",
        "    for row in [board[i*3:(i+1)*3] for i in range(3)]:\n",
        "        print('| ' + ' | '.join(row) + ' |')\n",
        "def is_winner(board, player):\n",
        "    win_conditions = [\n",
        "        [0, 1, 2], [3, 4, 5], [6, 7, 8],\n",
        "        [0, 3, 6], [1, 4, 7], [2, 5, 8],\n",
        "        [0, 4, 8], [2, 4, 6]\n",
        "    ]\n",
        "    return any(all(board[pos] == player for pos in condition) for condition in win_conditions)\n",
        "def is_board_full(board):\n",
        "    return ' ' not in board\n",
        "def get_available_moves(board):\n",
        "    return [i for i, spot in enumerate(board) if spot == ' ']\n",
        "def minimax(board, depth, alpha, beta, is_maximizing):\n",
        "    if is_winner(board, 'O'):\n",
        "        return 1\n",
        "    if is_winner(board, 'X'):\n",
        "        return -1\n",
        "    if is_board_full(board):\n",
        "        return 0\n",
        "\n",
        "    if is_maximizing:\n",
        "        max_eval = -math.inf\n",
        "        for move in get_available_moves(board):\n",
        "            board[move] = 'O'\n",
        "            eval = minimax(board, depth + 1, alpha, beta, False)\n",
        "            board[move] = ' '\n",
        "            max_eval = max(max_eval, eval)\n",
        "            alpha = max(alpha, eval)\n",
        "            if beta <= alpha:\n",
        "                break\n",
        "        return max_eval\n",
        "    else:\n",
        "        min_eval = math.inf\n",
        "        for move in get_available_moves(board):\n",
        "            board[move] = 'X'\n",
        "            eval = minimax(board, depth + 1, alpha, beta, True)\n",
        "            board[move] = ' '\n",
        "            min_eval = min(min_eval, eval)\n",
        "            beta = min(beta, eval)\n",
        "            if beta <= alpha:\n",
        "                break\n",
        "        return min_eval\n",
        "def ai_move(board):\n",
        "    best_score = -math.inf\n",
        "    best_move = None\n",
        "    for move in get_available_moves(board):\n",
        "        board[move] = 'O'\n",
        "        score = minimax(board, 0, -math.inf, math.inf, False)\n",
        "        board[move] = ' '\n",
        "        if score > best_score:\n",
        "            best_score = score\n",
        "            best_move = move\n",
        "    return best_move\n",
        "def play_game():\n",
        "    print(\"Welcome to Tic-Tac-Toe!\")\n",
        "    print_board(board)\n",
        "\n",
        "    while True:\n",
        "        move = int(input(\"Enter your move (1-9): \")) - 1\n",
        "        if board[move] != ' ':\n",
        "            print(\"Invalid move, Try again!\")\n",
        "            continue\n",
        "        board[move] = 'X'\n",
        "\n",
        "        if is_winner(board, 'X'):\n",
        "            print_board(board)\n",
        "            print(\"You win!\")\n",
        "            break\n",
        "\n",
        "        if is_board_full(board):\n",
        "            print_board(board)\n",
        "            print(\"It is a tie!\")\n",
        "            break\n",
        "        board[ai_move(board)] = 'O'\n",
        "\n",
        "        print_board(board)\n",
        "\n",
        "        if is_winner(board, 'O'):\n",
        "            print(\"AI wins!\")\n",
        "            break\n",
        "\n",
        "        if is_board_full(board):\n",
        "            print(\"It is a tie!\")\n",
        "            break\n",
        "\n",
        "play_game()"
      ]
    }
  ]
}